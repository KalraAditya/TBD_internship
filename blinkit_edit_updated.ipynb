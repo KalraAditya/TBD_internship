{
 "cells": [
  {
   "cell_type": "code",
   "execution_count": 1,
   "id": "139ba154",
   "metadata": {},
   "outputs": [],
   "source": [
    "from selenium import webdriver\n",
    "import pandas as pd\n",
    "from selenium.webdriver.common.keys import Keys"
   ]
  },
  {
   "cell_type": "code",
   "execution_count": 2,
   "id": "2d848a8c",
   "metadata": {},
   "outputs": [],
   "source": [
    "from selenium.webdriver.common.by import By"
   ]
  },
  {
   "cell_type": "code",
   "execution_count": 3,
   "id": "a9fbcc13",
   "metadata": {},
   "outputs": [],
   "source": [
    "df1 = pd.read_csv(r\"C:\\Users\\ADITYA KALRA\\Desktop\\TBD\\blinkit_scraped.csv\")"
   ]
  },
  {
   "cell_type": "code",
   "execution_count": 4,
   "id": "a26b449a",
   "metadata": {},
   "outputs": [
    {
     "data": {
      "text/html": [
       "<div>\n",
       "<style scoped>\n",
       "    .dataframe tbody tr th:only-of-type {\n",
       "        vertical-align: middle;\n",
       "    }\n",
       "\n",
       "    .dataframe tbody tr th {\n",
       "        vertical-align: top;\n",
       "    }\n",
       "\n",
       "    .dataframe thead th {\n",
       "        text-align: right;\n",
       "    }\n",
       "</style>\n",
       "<table border=\"1\" class=\"dataframe\">\n",
       "  <thead>\n",
       "    <tr style=\"text-align: right;\">\n",
       "      <th></th>\n",
       "      <th>item_name</th>\n",
       "      <th>status</th>\n",
       "      <th>PINCODE</th>\n",
       "    </tr>\n",
       "  </thead>\n",
       "  <tbody>\n",
       "    <tr>\n",
       "      <th>0</th>\n",
       "      <td>Bonn White Bread</td>\n",
       "      <td>avail</td>\n",
       "      <td>201304</td>\n",
       "    </tr>\n",
       "    <tr>\n",
       "      <th>1</th>\n",
       "      <td>English Oven Brown Bread</td>\n",
       "      <td>avail</td>\n",
       "      <td>201304</td>\n",
       "    </tr>\n",
       "    <tr>\n",
       "      <th>2</th>\n",
       "      <td>Harvest Gold 100% Atta Whole Wheat Bread</td>\n",
       "      <td>avail</td>\n",
       "      <td>201304</td>\n",
       "    </tr>\n",
       "    <tr>\n",
       "      <th>3</th>\n",
       "      <td>English Oven Milk Bread</td>\n",
       "      <td>avail</td>\n",
       "      <td>201304</td>\n",
       "    </tr>\n",
       "    <tr>\n",
       "      <th>4</th>\n",
       "      <td>Bonn High Fibre Brown Bread</td>\n",
       "      <td>avail</td>\n",
       "      <td>201304</td>\n",
       "    </tr>\n",
       "    <tr>\n",
       "      <th>...</th>\n",
       "      <td>...</td>\n",
       "      <td>...</td>\n",
       "      <td>...</td>\n",
       "    </tr>\n",
       "    <tr>\n",
       "      <th>469</th>\n",
       "      <td>American Garden Plain Bread Crumbs</td>\n",
       "      <td>avail</td>\n",
       "      <td>110085</td>\n",
       "    </tr>\n",
       "    <tr>\n",
       "      <th>470</th>\n",
       "      <td>Eggoz Farm Fresh White Eggs (6 pieces) + Engli...</td>\n",
       "      <td>avail</td>\n",
       "      <td>110085</td>\n",
       "    </tr>\n",
       "    <tr>\n",
       "      <th>471</th>\n",
       "      <td>Harvest Gold Sandwich White Bread</td>\n",
       "      <td>oos</td>\n",
       "      <td>110085</td>\n",
       "    </tr>\n",
       "    <tr>\n",
       "      <th>472</th>\n",
       "      <td>The Baker's Dozen Garlic Bread (Wholewheat)</td>\n",
       "      <td>oos</td>\n",
       "      <td>110085</td>\n",
       "    </tr>\n",
       "    <tr>\n",
       "      <th>473</th>\n",
       "      <td>The Baker's Dozen 100 % Whole Wheat Loaf - Pac...</td>\n",
       "      <td>oos</td>\n",
       "      <td>110085</td>\n",
       "    </tr>\n",
       "  </tbody>\n",
       "</table>\n",
       "<p>474 rows × 3 columns</p>\n",
       "</div>"
      ],
      "text/plain": [
       "                                             item_name status  PINCODE\n",
       "0                                     Bonn White Bread  avail   201304\n",
       "1                             English Oven Brown Bread  avail   201304\n",
       "2             Harvest Gold 100% Atta Whole Wheat Bread  avail   201304\n",
       "3                              English Oven Milk Bread  avail   201304\n",
       "4                          Bonn High Fibre Brown Bread  avail   201304\n",
       "..                                                 ...    ...      ...\n",
       "469                 American Garden Plain Bread Crumbs  avail   110085\n",
       "470  Eggoz Farm Fresh White Eggs (6 pieces) + Engli...  avail   110085\n",
       "471                  Harvest Gold Sandwich White Bread    oos   110085\n",
       "472        The Baker's Dozen Garlic Bread (Wholewheat)    oos   110085\n",
       "473  The Baker's Dozen 100 % Whole Wheat Loaf - Pac...    oos   110085\n",
       "\n",
       "[474 rows x 3 columns]"
      ]
     },
     "execution_count": 4,
     "metadata": {},
     "output_type": "execute_result"
    }
   ],
   "source": [
    "df1"
   ]
  },
  {
   "cell_type": "code",
   "execution_count": 5,
   "id": "a3892b14",
   "metadata": {
    "scrolled": false
   },
   "outputs": [
    {
     "name": "stderr",
     "output_type": "stream",
     "text": [
      "C:\\Users\\ADITYA KALRA\\AppData\\Local\\Temp\\ipykernel_8852\\3511475718.py:1: DeprecationWarning: executable_path has been deprecated, please pass in a Service object\n",
      "  driver = webdriver.Chrome(r\"C:\\Users\\ADITYA KALRA\\Desktop\\TBD\\chromedriver.exe\")\n"
     ]
    }
   ],
   "source": [
    "driver = webdriver.Chrome(r\"C:\\Users\\ADITYA KALRA\\Desktop\\TBD\\chromedriver.exe\")"
   ]
  },
  {
   "cell_type": "code",
   "execution_count": 6,
   "id": "e770d605",
   "metadata": {},
   "outputs": [],
   "source": [
    "driver.get(\"https://blinkit.com/\")\n",
    "\n",
    "driver.maximize_window()\n"
   ]
  },
  {
   "cell_type": "code",
   "execution_count": 7,
   "id": "cdd15021",
   "metadata": {},
   "outputs": [],
   "source": [
    "driver.implicitly_wait(3)"
   ]
  },
  {
   "cell_type": "code",
   "execution_count": 8,
   "id": "68555b0c",
   "metadata": {},
   "outputs": [],
   "source": [
    "pin = driver.find_element(By.XPATH,r\"/html/body/div[1]/div/div/div[1]/header/div[2]/div[2]/div/div/div/div/div/div[2]/div[2]/div/div[2]/div/div/div/div[2]/div/div/div[2]/input\")\n",
    "pin.send_keys('110005')\n",
    "pin.send_keys(Keys.ENTER)"
   ]
  },
  {
   "cell_type": "code",
   "execution_count": 9,
   "id": "1dae8b53",
   "metadata": {},
   "outputs": [],
   "source": [
    "image = driver.find_element(By.XPATH,r\"/html/body/div[1]/div/div/div[3]/div/div[3]/div/div/div/div[2]/img\")"
   ]
  },
  {
   "cell_type": "code",
   "execution_count": 10,
   "id": "996300c5",
   "metadata": {},
   "outputs": [],
   "source": [
    "driver.execute_script(\"arguments[0].click();\", image)"
   ]
  },
  {
   "cell_type": "code",
   "execution_count": 11,
   "id": "1a919af0",
   "metadata": {},
   "outputs": [],
   "source": [
    "image1 = driver.find_element(By.XPATH, r\"/html/body/div[1]/div/div/div[3]/div/div/div[3]/div[1]/div/div/div[1]/div/div[1]/div/ul/nav/a[2]/div/div[1]/img\")"
   ]
  },
  {
   "cell_type": "code",
   "execution_count": 12,
   "id": "170d1d9d",
   "metadata": {},
   "outputs": [],
   "source": [
    "driver.execute_script(\"arguments[0].click();\", image1)"
   ]
  },
  {
   "cell_type": "code",
   "execution_count": 13,
   "id": "cc967244",
   "metadata": {},
   "outputs": [],
   "source": [
    "driver.implicitly_wait(2)\n",
    "driver.execute_script(\"window.scrollTo(0,document.body.scrollHeight)\")"
   ]
  },
  {
   "cell_type": "code",
   "execution_count": 14,
   "id": "fdfa96a7",
   "metadata": {},
   "outputs": [],
   "source": [
    "product_list = []\n",
    "avail_status = []\n",
    "for i in range(1,100):\n",
    "    try:\n",
    "        try:\n",
    "            path = \"/html/body/div[1]/div/div/div[3]/div/div/div[3]/div[1]/div/div/div[1]/div/div[2]/div[2]/div[2]/div/div/a[\"+str(i)+\"]/div/div[2]/div[2]/div[1]/div[1]\"\n",
    "            name = driver.find_elements(By.XPATH,path)\n",
    "            product_list.append(name[0].text)\n",
    "            path1 = \"/html/body/div[1]/div/div/div[3]/div/div/div[3]/div[1]/div/div/div[1]/div/div[2]/div[2]/div[2]/div/div/a[\"+str(i)+\"]/div/div[2]/div[2]/div[2]/div[2]/span\"\n",
    "            name1 = driver.find_elements(By.XPATH,path1)\n",
    "            if len(name1)!=0:\n",
    "                avail_status.append(\"oos\")\n",
    "            else:\n",
    "                avail_status.append('avail')\n",
    "            \n",
    "        except:\n",
    "            path = \"/html/body/div[1]/div/div/div[3]/div/div/div[3]/div[1]/div/div/div[1]/div/div[2]/div[2]/div[2]/div/div/a[\"+str(i)+\"]/div/div[3]/div[2]/div[1]/div[1]\"\n",
    "            name = driver.find_elements(By.XPATH,path)\n",
    "            product_list.append(name[0].text)\n",
    "            path1 = \"/html/body/div[1]/div/div/div[3]/div/div/div[3]/div[1]/div/div/div[1]/div/div[2]/div[2]/div[2]/div/div/a[\"+str(i)+\"]/div/div[2]/div[2]/div[2]/div[2]/span\"\n",
    "            name1 = driver.find_elements(By.XPATH,path1)\n",
    "            if len(name1)!=0:\n",
    "                avail_status.append(\"oos\")\n",
    "            else:\n",
    "                avail_status.append('avail')\n",
    "        \n",
    "    except:\n",
    "        \n",
    "        break"
   ]
  },
  {
   "cell_type": "code",
   "execution_count": 15,
   "id": "57fe9e0c",
   "metadata": {},
   "outputs": [
    {
     "data": {
      "text/plain": [
       "(73, 73)"
      ]
     },
     "execution_count": 15,
     "metadata": {},
     "output_type": "execute_result"
    }
   ],
   "source": [
    "len(product_list),len(avail_status)"
   ]
  },
  {
   "cell_type": "code",
   "execution_count": 16,
   "id": "f6a162ef",
   "metadata": {},
   "outputs": [],
   "source": [
    "df_blinkit = pd.DataFrame()\n",
    "df_blinkit['item_name'] = product_list\n",
    "df_blinkit['status'] = avail_status"
   ]
  },
  {
   "cell_type": "code",
   "execution_count": 17,
   "id": "c95046aa",
   "metadata": {
    "scrolled": true
   },
   "outputs": [
    {
     "data": {
      "text/html": [
       "<div>\n",
       "<style scoped>\n",
       "    .dataframe tbody tr th:only-of-type {\n",
       "        vertical-align: middle;\n",
       "    }\n",
       "\n",
       "    .dataframe tbody tr th {\n",
       "        vertical-align: top;\n",
       "    }\n",
       "\n",
       "    .dataframe thead th {\n",
       "        text-align: right;\n",
       "    }\n",
       "</style>\n",
       "<table border=\"1\" class=\"dataframe\">\n",
       "  <thead>\n",
       "    <tr style=\"text-align: right;\">\n",
       "      <th></th>\n",
       "      <th>item_name</th>\n",
       "      <th>status</th>\n",
       "    </tr>\n",
       "  </thead>\n",
       "  <tbody>\n",
       "    <tr>\n",
       "      <th>0</th>\n",
       "      <td>Bonn White Bread</td>\n",
       "      <td>avail</td>\n",
       "    </tr>\n",
       "    <tr>\n",
       "      <th>1</th>\n",
       "      <td>Harvest Gold Hearty Brown Bread</td>\n",
       "      <td>avail</td>\n",
       "    </tr>\n",
       "    <tr>\n",
       "      <th>2</th>\n",
       "      <td>Harvest Gold White Bread</td>\n",
       "      <td>avail</td>\n",
       "    </tr>\n",
       "    <tr>\n",
       "      <th>3</th>\n",
       "      <td>Harvest Gold 100% Atta Whole Wheat Bread</td>\n",
       "      <td>avail</td>\n",
       "    </tr>\n",
       "    <tr>\n",
       "      <th>4</th>\n",
       "      <td>Bonn Multigrain Bread</td>\n",
       "      <td>avail</td>\n",
       "    </tr>\n",
       "    <tr>\n",
       "      <th>...</th>\n",
       "      <td>...</td>\n",
       "      <td>...</td>\n",
       "    </tr>\n",
       "    <tr>\n",
       "      <th>68</th>\n",
       "      <td>English Oven Sandwich White Bread</td>\n",
       "      <td>oos</td>\n",
       "    </tr>\n",
       "    <tr>\n",
       "      <th>69</th>\n",
       "      <td>Bonn High Fibre Brown Bread</td>\n",
       "      <td>oos</td>\n",
       "    </tr>\n",
       "    <tr>\n",
       "      <th>70</th>\n",
       "      <td>La Americana Whole Wheat Multigrain Bread</td>\n",
       "      <td>oos</td>\n",
       "    </tr>\n",
       "    <tr>\n",
       "      <th>71</th>\n",
       "      <td>The Baker's Dozen Ragi Loaf - Pack of 2</td>\n",
       "      <td>oos</td>\n",
       "    </tr>\n",
       "    <tr>\n",
       "      <th>72</th>\n",
       "      <td>The Baker's Dozen 100% Wholewheat Banana Bread</td>\n",
       "      <td>oos</td>\n",
       "    </tr>\n",
       "  </tbody>\n",
       "</table>\n",
       "<p>73 rows × 2 columns</p>\n",
       "</div>"
      ],
      "text/plain": [
       "                                         item_name status\n",
       "0                                 Bonn White Bread  avail\n",
       "1                  Harvest Gold Hearty Brown Bread  avail\n",
       "2                         Harvest Gold White Bread  avail\n",
       "3         Harvest Gold 100% Atta Whole Wheat Bread  avail\n",
       "4                            Bonn Multigrain Bread  avail\n",
       "..                                             ...    ...\n",
       "68               English Oven Sandwich White Bread    oos\n",
       "69                     Bonn High Fibre Brown Bread    oos\n",
       "70       La Americana Whole Wheat Multigrain Bread    oos\n",
       "71         The Baker's Dozen Ragi Loaf - Pack of 2    oos\n",
       "72  The Baker's Dozen 100% Wholewheat Banana Bread    oos\n",
       "\n",
       "[73 rows x 2 columns]"
      ]
     },
     "execution_count": 17,
     "metadata": {},
     "output_type": "execute_result"
    }
   ],
   "source": [
    "df_blinkit"
   ]
  },
  {
   "cell_type": "code",
   "execution_count": 18,
   "id": "f5151ef4",
   "metadata": {},
   "outputs": [],
   "source": [
    "df_blinkit['PINCODE'] = pd.Series([\"110005\" for x in range(len(df_blinkit.index))])"
   ]
  },
  {
   "cell_type": "code",
   "execution_count": 19,
   "id": "a8003292",
   "metadata": {},
   "outputs": [
    {
     "data": {
      "text/html": [
       "<div>\n",
       "<style scoped>\n",
       "    .dataframe tbody tr th:only-of-type {\n",
       "        vertical-align: middle;\n",
       "    }\n",
       "\n",
       "    .dataframe tbody tr th {\n",
       "        vertical-align: top;\n",
       "    }\n",
       "\n",
       "    .dataframe thead th {\n",
       "        text-align: right;\n",
       "    }\n",
       "</style>\n",
       "<table border=\"1\" class=\"dataframe\">\n",
       "  <thead>\n",
       "    <tr style=\"text-align: right;\">\n",
       "      <th></th>\n",
       "      <th>item_name</th>\n",
       "      <th>status</th>\n",
       "      <th>PINCODE</th>\n",
       "    </tr>\n",
       "  </thead>\n",
       "  <tbody>\n",
       "    <tr>\n",
       "      <th>0</th>\n",
       "      <td>Bonn White Bread</td>\n",
       "      <td>avail</td>\n",
       "      <td>110005</td>\n",
       "    </tr>\n",
       "    <tr>\n",
       "      <th>1</th>\n",
       "      <td>Harvest Gold Hearty Brown Bread</td>\n",
       "      <td>avail</td>\n",
       "      <td>110005</td>\n",
       "    </tr>\n",
       "    <tr>\n",
       "      <th>2</th>\n",
       "      <td>Harvest Gold White Bread</td>\n",
       "      <td>avail</td>\n",
       "      <td>110005</td>\n",
       "    </tr>\n",
       "    <tr>\n",
       "      <th>3</th>\n",
       "      <td>Harvest Gold 100% Atta Whole Wheat Bread</td>\n",
       "      <td>avail</td>\n",
       "      <td>110005</td>\n",
       "    </tr>\n",
       "    <tr>\n",
       "      <th>4</th>\n",
       "      <td>Bonn Multigrain Bread</td>\n",
       "      <td>avail</td>\n",
       "      <td>110005</td>\n",
       "    </tr>\n",
       "    <tr>\n",
       "      <th>...</th>\n",
       "      <td>...</td>\n",
       "      <td>...</td>\n",
       "      <td>...</td>\n",
       "    </tr>\n",
       "    <tr>\n",
       "      <th>68</th>\n",
       "      <td>English Oven Sandwich White Bread</td>\n",
       "      <td>oos</td>\n",
       "      <td>110005</td>\n",
       "    </tr>\n",
       "    <tr>\n",
       "      <th>69</th>\n",
       "      <td>Bonn High Fibre Brown Bread</td>\n",
       "      <td>oos</td>\n",
       "      <td>110005</td>\n",
       "    </tr>\n",
       "    <tr>\n",
       "      <th>70</th>\n",
       "      <td>La Americana Whole Wheat Multigrain Bread</td>\n",
       "      <td>oos</td>\n",
       "      <td>110005</td>\n",
       "    </tr>\n",
       "    <tr>\n",
       "      <th>71</th>\n",
       "      <td>The Baker's Dozen Ragi Loaf - Pack of 2</td>\n",
       "      <td>oos</td>\n",
       "      <td>110005</td>\n",
       "    </tr>\n",
       "    <tr>\n",
       "      <th>72</th>\n",
       "      <td>The Baker's Dozen 100% Wholewheat Banana Bread</td>\n",
       "      <td>oos</td>\n",
       "      <td>110005</td>\n",
       "    </tr>\n",
       "  </tbody>\n",
       "</table>\n",
       "<p>73 rows × 3 columns</p>\n",
       "</div>"
      ],
      "text/plain": [
       "                                         item_name status PINCODE\n",
       "0                                 Bonn White Bread  avail  110005\n",
       "1                  Harvest Gold Hearty Brown Bread  avail  110005\n",
       "2                         Harvest Gold White Bread  avail  110005\n",
       "3         Harvest Gold 100% Atta Whole Wheat Bread  avail  110005\n",
       "4                            Bonn Multigrain Bread  avail  110005\n",
       "..                                             ...    ...     ...\n",
       "68               English Oven Sandwich White Bread    oos  110005\n",
       "69                     Bonn High Fibre Brown Bread    oos  110005\n",
       "70       La Americana Whole Wheat Multigrain Bread    oos  110005\n",
       "71         The Baker's Dozen Ragi Loaf - Pack of 2    oos  110005\n",
       "72  The Baker's Dozen 100% Wholewheat Banana Bread    oos  110005\n",
       "\n",
       "[73 rows x 3 columns]"
      ]
     },
     "execution_count": 19,
     "metadata": {},
     "output_type": "execute_result"
    }
   ],
   "source": [
    "df_blinkit"
   ]
  },
  {
   "cell_type": "code",
   "execution_count": 20,
   "id": "e7507d9d",
   "metadata": {},
   "outputs": [
    {
     "name": "stderr",
     "output_type": "stream",
     "text": [
      "C:\\Users\\ADITYA KALRA\\AppData\\Local\\Temp\\ipykernel_8852\\1812591155.py:1: FutureWarning: The frame.append method is deprecated and will be removed from pandas in a future version. Use pandas.concat instead.\n",
      "  df_blinkit = df_blinkit.append(df1,ignore_index=True)\n"
     ]
    }
   ],
   "source": [
    "df_blinkit = df_blinkit.append(df1,ignore_index=True)"
   ]
  },
  {
   "cell_type": "code",
   "execution_count": 21,
   "id": "9dc68f88",
   "metadata": {},
   "outputs": [
    {
     "data": {
      "text/html": [
       "<div>\n",
       "<style scoped>\n",
       "    .dataframe tbody tr th:only-of-type {\n",
       "        vertical-align: middle;\n",
       "    }\n",
       "\n",
       "    .dataframe tbody tr th {\n",
       "        vertical-align: top;\n",
       "    }\n",
       "\n",
       "    .dataframe thead th {\n",
       "        text-align: right;\n",
       "    }\n",
       "</style>\n",
       "<table border=\"1\" class=\"dataframe\">\n",
       "  <thead>\n",
       "    <tr style=\"text-align: right;\">\n",
       "      <th></th>\n",
       "      <th>item_name</th>\n",
       "      <th>status</th>\n",
       "      <th>PINCODE</th>\n",
       "    </tr>\n",
       "  </thead>\n",
       "  <tbody>\n",
       "    <tr>\n",
       "      <th>0</th>\n",
       "      <td>Bonn White Bread</td>\n",
       "      <td>avail</td>\n",
       "      <td>110005</td>\n",
       "    </tr>\n",
       "    <tr>\n",
       "      <th>1</th>\n",
       "      <td>Harvest Gold Hearty Brown Bread</td>\n",
       "      <td>avail</td>\n",
       "      <td>110005</td>\n",
       "    </tr>\n",
       "    <tr>\n",
       "      <th>2</th>\n",
       "      <td>Harvest Gold White Bread</td>\n",
       "      <td>avail</td>\n",
       "      <td>110005</td>\n",
       "    </tr>\n",
       "    <tr>\n",
       "      <th>3</th>\n",
       "      <td>Harvest Gold 100% Atta Whole Wheat Bread</td>\n",
       "      <td>avail</td>\n",
       "      <td>110005</td>\n",
       "    </tr>\n",
       "    <tr>\n",
       "      <th>4</th>\n",
       "      <td>Bonn Multigrain Bread</td>\n",
       "      <td>avail</td>\n",
       "      <td>110005</td>\n",
       "    </tr>\n",
       "    <tr>\n",
       "      <th>...</th>\n",
       "      <td>...</td>\n",
       "      <td>...</td>\n",
       "      <td>...</td>\n",
       "    </tr>\n",
       "    <tr>\n",
       "      <th>542</th>\n",
       "      <td>American Garden Plain Bread Crumbs</td>\n",
       "      <td>avail</td>\n",
       "      <td>110085</td>\n",
       "    </tr>\n",
       "    <tr>\n",
       "      <th>543</th>\n",
       "      <td>Eggoz Farm Fresh White Eggs (6 pieces) + Engli...</td>\n",
       "      <td>avail</td>\n",
       "      <td>110085</td>\n",
       "    </tr>\n",
       "    <tr>\n",
       "      <th>544</th>\n",
       "      <td>Harvest Gold Sandwich White Bread</td>\n",
       "      <td>oos</td>\n",
       "      <td>110085</td>\n",
       "    </tr>\n",
       "    <tr>\n",
       "      <th>545</th>\n",
       "      <td>The Baker's Dozen Garlic Bread (Wholewheat)</td>\n",
       "      <td>oos</td>\n",
       "      <td>110085</td>\n",
       "    </tr>\n",
       "    <tr>\n",
       "      <th>546</th>\n",
       "      <td>The Baker's Dozen 100 % Whole Wheat Loaf - Pac...</td>\n",
       "      <td>oos</td>\n",
       "      <td>110085</td>\n",
       "    </tr>\n",
       "  </tbody>\n",
       "</table>\n",
       "<p>547 rows × 3 columns</p>\n",
       "</div>"
      ],
      "text/plain": [
       "                                             item_name status PINCODE\n",
       "0                                     Bonn White Bread  avail  110005\n",
       "1                      Harvest Gold Hearty Brown Bread  avail  110005\n",
       "2                             Harvest Gold White Bread  avail  110005\n",
       "3             Harvest Gold 100% Atta Whole Wheat Bread  avail  110005\n",
       "4                                Bonn Multigrain Bread  avail  110005\n",
       "..                                                 ...    ...     ...\n",
       "542                 American Garden Plain Bread Crumbs  avail  110085\n",
       "543  Eggoz Farm Fresh White Eggs (6 pieces) + Engli...  avail  110085\n",
       "544                  Harvest Gold Sandwich White Bread    oos  110085\n",
       "545        The Baker's Dozen Garlic Bread (Wholewheat)    oos  110085\n",
       "546  The Baker's Dozen 100 % Whole Wheat Loaf - Pac...    oos  110085\n",
       "\n",
       "[547 rows x 3 columns]"
      ]
     },
     "execution_count": 21,
     "metadata": {},
     "output_type": "execute_result"
    }
   ],
   "source": [
    "df_blinkit"
   ]
  },
  {
   "cell_type": "code",
   "execution_count": 22,
   "id": "78830b92",
   "metadata": {},
   "outputs": [],
   "source": [
    "#exporting the dataset to the Csv format\n",
    "import os\n",
    "\n",
    "os.chdir(r\"C:\\Users\\ADITYA KALRA\\Desktop\\TBD\")\n",
    "df_blinkit.to_csv('blinkit_scraped.csv', index=False)"
   ]
  },
  {
   "cell_type": "code",
   "execution_count": null,
   "id": "8bfcb62a",
   "metadata": {},
   "outputs": [],
   "source": []
  }
 ],
 "metadata": {
  "kernelspec": {
   "display_name": "Python 3 (ipykernel)",
   "language": "python",
   "name": "python3"
  },
  "language_info": {
   "codemirror_mode": {
    "name": "ipython",
    "version": 3
   },
   "file_extension": ".py",
   "mimetype": "text/x-python",
   "name": "python",
   "nbconvert_exporter": "python",
   "pygments_lexer": "ipython3",
   "version": "3.9.12"
  }
 },
 "nbformat": 4,
 "nbformat_minor": 5
}
